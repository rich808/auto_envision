{
 "cells": [
  {
   "cell_type": "code",
   "execution_count": 0,
   "metadata": {
    "colab": {},
    "colab_type": "code",
    "id": "8mvEiwlE3ulZ"
   },
   "outputs": [],
   "source": [
    "import pandas as pd\n",
    "import numpy as np\n",
    "from numpy.random import seed\n",
    "import os\n",
    "import matplotlib.pyplot as plt\n",
    "from PIL import Image\n",
    "import time\n",
    "\n",
    "from sklearn.model_selection import train_test_split\n",
    "from sklearn.metrics import confusion_matrix\n",
    "\n",
    "import tensorflow as tf\n",
    "from keras.utils import to_categorical\n",
    "from keras.models import Sequential, load_model\n",
    "from keras.layers import Conv2D, MaxPool2D, Dense, Flatten, Dropout"
   ]
  },
  {
   "cell_type": "code",
   "execution_count": 0,
   "metadata": {
    "colab": {},
    "colab_type": "code",
    "id": "dVknRKHgcHtM"
   },
   "outputs": [],
   "source": [
    "seed(88)\n",
    "tf.random.set_seed(88)"
   ]
  },
  {
   "cell_type": "code",
   "execution_count": 0,
   "metadata": {
    "colab": {},
    "colab_type": "code",
    "id": "l_Lv7U1H5PZ2"
   },
   "outputs": [],
   "source": [
    "# empty list to store all image array\n",
    "images_data = []\n",
    "\n",
    "# empty list to store all the corresponding labels\n",
    "images_labels = []"
   ]
  },
  {
   "cell_type": "code",
   "execution_count": 48,
   "metadata": {
    "colab": {
     "base_uri": "https://localhost:8080/",
     "height": 85
    },
    "colab_type": "code",
    "id": "e966cYmf5SsN",
    "outputId": "6d0e11ae-124b-44c5-e23c-a17d5c0c8640"
   },
   "outputs": [
    {
     "name": "stdout",
     "output_type": "stream",
     "text": [
      "Completed folder 0.\n",
      "Completed folder 1.\n",
      "Completed folder 2.\n",
      "Completed folder 3.\n"
     ]
    }
   ],
   "source": [
    "#all the folders or labels\n",
    "for i in range(4):\n",
    "    \n",
    "    # the directory that has all folders with images\n",
    "    path = f'/content/car/car/{i}/'\n",
    "    images = os.listdir(path)\n",
    "\n",
    "    # loop through each image in the folder\n",
    "    for image in images:\n",
    "        \n",
    "        # open each image\n",
    "        img = Image.open(path + image)\n",
    "        \n",
    "        # convert image to array\n",
    "        img_array = np.array(img)\n",
    "        \n",
    "        # add each array to the images_data list\n",
    "        images_data.append(img_array)\n",
    "        \n",
    "        # add the label to the images_labels list\n",
    "        images_labels.append(i)\n",
    "\n",
    "    #progress report for each folder\n",
    "    print(f'Completed folder {i}.')"
   ]
  },
  {
   "cell_type": "code",
   "execution_count": 0,
   "metadata": {
    "colab": {},
    "colab_type": "code",
    "id": "uAhw_7WC5kx2"
   },
   "outputs": [],
   "source": [
    "#convert list to arrays\n",
    "\n",
    "images_array = np.array(images_data)\n",
    "\n",
    "labels_array = np.array(images_labels)"
   ]
  },
  {
   "cell_type": "code",
   "execution_count": 50,
   "metadata": {
    "colab": {
     "base_uri": "https://localhost:8080/",
     "height": 34
    },
    "colab_type": "code",
    "id": "UrMQ45hb5o6Z",
    "outputId": "179409e2-80cd-469e-8717-6f5e3043ea7a"
   },
   "outputs": [
    {
     "data": {
      "text/plain": [
       "(9588, 256, 256, 3)"
      ]
     },
     "execution_count": 50,
     "metadata": {
      "tags": []
     },
     "output_type": "execute_result"
    }
   ],
   "source": [
    "# images array shape\n",
    "images_array.shape"
   ]
  },
  {
   "cell_type": "code",
   "execution_count": 51,
   "metadata": {
    "colab": {
     "base_uri": "https://localhost:8080/",
     "height": 34
    },
    "colab_type": "code",
    "id": "Op1o3Hi25s9-",
    "outputId": "d533ad84-8e3d-4100-96fb-9a39862e4709"
   },
   "outputs": [
    {
     "data": {
      "text/plain": [
       "(9588,)"
      ]
     },
     "execution_count": 51,
     "metadata": {
      "tags": []
     },
     "output_type": "execute_result"
    }
   ],
   "source": [
    "# label_array shape\n",
    "\n",
    "labels_array.shape"
   ]
  },
  {
   "cell_type": "code",
   "execution_count": 97,
   "metadata": {
    "colab": {
     "base_uri": "https://localhost:8080/",
     "height": 34
    },
    "colab_type": "code",
    "id": "H9H5Gu2c6Cin",
    "outputId": "650295ea-10bf-4cfb-d21e-e6c7d6c9debc"
   },
   "outputs": [
    {
     "data": {
      "text/plain": [
       "(array([0, 1, 2, 3]), array([2388, 2400, 2400, 2400]))"
      ]
     },
     "execution_count": 97,
     "metadata": {
      "tags": []
     },
     "output_type": "execute_result"
    }
   ],
   "source": [
    "np.unique(labels_array, return_counts=True)"
   ]
  },
  {
   "cell_type": "code",
   "execution_count": 0,
   "metadata": {
    "colab": {},
    "colab_type": "code",
    "id": "zumJA1Et5uN5"
   },
   "outputs": [],
   "source": [
    "# train test split\n",
    "\n",
    "X_train, X_test, y_train, y_test = train_test_split(images_array,\n",
    "                                                    labels_array,\n",
    "                                                    random_state = 888,\n",
    "                                                    stratify = labels_array)"
   ]
  },
  {
   "cell_type": "code",
   "execution_count": 0,
   "metadata": {
    "colab": {},
    "colab_type": "code",
    "id": "7r-87ECa5wOl"
   },
   "outputs": [],
   "source": [
    "# add in a validation set. \n",
    "\n",
    "X_train, X_val, y_train, y_val = train_test_split(X_train, y_train,\n",
    "                                                 test_size = 0.2,\n",
    "                                                 random_state = 888,\n",
    "                                                 stratify = y_train)"
   ]
  },
  {
   "cell_type": "code",
   "execution_count": 0,
   "metadata": {
    "colab": {},
    "colab_type": "code",
    "id": "otAkl8Pa5xrS"
   },
   "outputs": [],
   "source": [
    "# convert labels to categories\n",
    "y_train_oh = to_categorical(y_train, 4)\n",
    "y_val_oh = to_categorical(y_val, 4)"
   ]
  },
  {
   "cell_type": "code",
   "execution_count": 0,
   "metadata": {
    "colab": {},
    "colab_type": "code",
    "id": "_t-7JV09p2-h"
   },
   "outputs": [],
   "source": [
    "# epochs for CNN model\n",
    "epochs = 30"
   ]
  },
  {
   "cell_type": "code",
   "execution_count": 81,
   "metadata": {
    "colab": {
     "base_uri": "https://localhost:8080/",
     "height": 1000
    },
    "colab_type": "code",
    "id": "2CM7vo625zll",
    "outputId": "09dc7307-1e9b-45d8-9bec-0d93eda232d0"
   },
   "outputs": [
    {
     "name": "stdout",
     "output_type": "stream",
     "text": [
      "Train on 5752 samples, validate on 1439 samples\n",
      "Epoch 1/30\n",
      "5752/5752 [==============================] - 48s 8ms/step - loss: 2.4228 - accuracy: 0.2719 - val_loss: 1.3778 - val_accuracy: 0.3044\n",
      "Epoch 2/30\n",
      "5752/5752 [==============================] - 41s 7ms/step - loss: 1.3233 - accuracy: 0.3707 - val_loss: 1.3287 - val_accuracy: 0.3641\n",
      "Epoch 3/30\n",
      "5752/5752 [==============================] - 41s 7ms/step - loss: 1.2396 - accuracy: 0.4339 - val_loss: 1.1894 - val_accuracy: 0.4732\n",
      "Epoch 4/30\n",
      "5752/5752 [==============================] - 41s 7ms/step - loss: 1.1134 - accuracy: 0.5101 - val_loss: 1.0188 - val_accuracy: 0.5671\n",
      "Epoch 5/30\n",
      "5752/5752 [==============================] - 41s 7ms/step - loss: 0.9896 - accuracy: 0.5921 - val_loss: 0.9901 - val_accuracy: 0.5615\n",
      "Epoch 6/30\n",
      "5752/5752 [==============================] - 41s 7ms/step - loss: 0.8332 - accuracy: 0.6638 - val_loss: 0.7550 - val_accuracy: 0.7304\n",
      "Epoch 7/30\n",
      "5752/5752 [==============================] - 41s 7ms/step - loss: 0.6796 - accuracy: 0.7394 - val_loss: 0.6106 - val_accuracy: 0.7867\n",
      "Epoch 8/30\n",
      "5752/5752 [==============================] - 41s 7ms/step - loss: 0.5950 - accuracy: 0.7776 - val_loss: 0.5469 - val_accuracy: 0.8179\n",
      "Epoch 9/30\n",
      "5752/5752 [==============================] - 41s 7ms/step - loss: 0.5167 - accuracy: 0.8171 - val_loss: 0.4612 - val_accuracy: 0.8548\n",
      "Epoch 10/30\n",
      "5752/5752 [==============================] - 41s 7ms/step - loss: 0.4225 - accuracy: 0.8519 - val_loss: 0.5495 - val_accuracy: 0.8082\n",
      "Epoch 11/30\n",
      "5752/5752 [==============================] - 41s 7ms/step - loss: 0.3659 - accuracy: 0.8703 - val_loss: 0.3231 - val_accuracy: 0.8944\n",
      "Epoch 12/30\n",
      "5752/5752 [==============================] - 41s 7ms/step - loss: 0.3233 - accuracy: 0.8856 - val_loss: 0.3570 - val_accuracy: 0.8846\n",
      "Epoch 13/30\n",
      "5752/5752 [==============================] - 41s 7ms/step - loss: 0.2902 - accuracy: 0.9006 - val_loss: 0.3653 - val_accuracy: 0.8985\n",
      "Epoch 14/30\n",
      "5752/5752 [==============================] - 41s 7ms/step - loss: 0.2736 - accuracy: 0.9047 - val_loss: 0.3024 - val_accuracy: 0.9041\n",
      "Epoch 15/30\n",
      "5752/5752 [==============================] - 41s 7ms/step - loss: 0.2544 - accuracy: 0.9141 - val_loss: 0.2975 - val_accuracy: 0.9097\n",
      "Epoch 16/30\n",
      "5752/5752 [==============================] - 41s 7ms/step - loss: 0.2382 - accuracy: 0.9226 - val_loss: 0.3131 - val_accuracy: 0.9090\n",
      "Epoch 17/30\n",
      "5752/5752 [==============================] - 41s 7ms/step - loss: 0.2003 - accuracy: 0.9325 - val_loss: 0.3384 - val_accuracy: 0.9006\n",
      "Epoch 18/30\n",
      "5752/5752 [==============================] - 41s 7ms/step - loss: 0.2054 - accuracy: 0.9320 - val_loss: 0.2463 - val_accuracy: 0.9222\n",
      "Epoch 19/30\n",
      "5752/5752 [==============================] - 41s 7ms/step - loss: 0.1969 - accuracy: 0.9348 - val_loss: 0.2462 - val_accuracy: 0.9284\n",
      "Epoch 20/30\n",
      "5752/5752 [==============================] - 41s 7ms/step - loss: 0.1789 - accuracy: 0.9378 - val_loss: 0.2579 - val_accuracy: 0.9249\n",
      "Epoch 21/30\n",
      "5752/5752 [==============================] - 41s 7ms/step - loss: 0.1826 - accuracy: 0.9405 - val_loss: 0.2479 - val_accuracy: 0.9243\n",
      "Epoch 22/30\n",
      "5752/5752 [==============================] - 41s 7ms/step - loss: 0.1665 - accuracy: 0.9454 - val_loss: 0.2084 - val_accuracy: 0.9409\n",
      "Epoch 23/30\n",
      "5752/5752 [==============================] - 41s 7ms/step - loss: 0.1489 - accuracy: 0.9513 - val_loss: 0.1993 - val_accuracy: 0.9368\n",
      "Epoch 24/30\n",
      "5752/5752 [==============================] - 41s 7ms/step - loss: 0.1940 - accuracy: 0.9409 - val_loss: 0.2303 - val_accuracy: 0.9222\n",
      "Epoch 25/30\n",
      "5752/5752 [==============================] - 41s 7ms/step - loss: 0.1581 - accuracy: 0.9503 - val_loss: 0.2160 - val_accuracy: 0.9375\n",
      "Epoch 26/30\n",
      "5752/5752 [==============================] - 41s 7ms/step - loss: 0.1226 - accuracy: 0.9588 - val_loss: 0.2105 - val_accuracy: 0.9402\n",
      "Epoch 27/30\n",
      "5752/5752 [==============================] - 41s 7ms/step - loss: 0.1621 - accuracy: 0.9459 - val_loss: 0.1896 - val_accuracy: 0.9409\n",
      "Epoch 28/30\n",
      "5752/5752 [==============================] - 41s 7ms/step - loss: 0.1130 - accuracy: 0.9626 - val_loss: 0.2148 - val_accuracy: 0.9465\n",
      "Epoch 29/30\n",
      "5752/5752 [==============================] - 41s 7ms/step - loss: 0.1325 - accuracy: 0.9517 - val_loss: 0.2052 - val_accuracy: 0.9479\n",
      "Epoch 30/30\n",
      "5752/5752 [==============================] - 41s 7ms/step - loss: 0.1278 - accuracy: 0.9626 - val_loss: 0.1818 - val_accuracy: 0.9521\n",
      "CPU times: user 9min 19s, sys: 4min 19s, total: 13min 38s\n",
      "Wall time: 20min 28s\n"
     ]
    }
   ],
   "source": [
    "# CNN model\n",
    "%%time\n",
    "\n",
    "\n",
    "# CNN model structure\n",
    "car_cnn = Sequential()\n",
    "car_cnn.add(Conv2D(filters=32, kernel_size=(7,7), activation='relu', input_shape=X_train.shape[1:]))\n",
    "car_cnn.add(Conv2D(filters=32, kernel_size=(7,7), activation='relu'))\n",
    "car_cnn.add(MaxPool2D(pool_size=(2, 2)))\n",
    "car_cnn.add(Dropout(rate=0.25))\n",
    "car_cnn.add(Conv2D(filters=64, kernel_size=(5, 5), activation='relu'))\n",
    "car_cnn.add(Conv2D(filters=64, kernel_size=(5, 5), activation='relu'))\n",
    "car_cnn.add(MaxPool2D(pool_size=(2, 2)))\n",
    "car_cnn.add(Dropout(rate=0.25))\n",
    "car_cnn.add(Conv2D(filters=64, kernel_size=(3, 3), activation='relu'))\n",
    "car_cnn.add(Conv2D(filters=64, kernel_size=(3, 3), activation='relu'))\n",
    "car_cnn.add(MaxPool2D(pool_size=(2, 2)))\n",
    "car_cnn.add(Dropout(rate=0.25))\n",
    "car_cnn.add(Conv2D(filters=64, kernel_size=(3, 3), activation='relu'))\n",
    "car_cnn.add(MaxPool2D(pool_size=(2, 2)))\n",
    "car_cnn.add(Dropout(rate=0.25))\n",
    "car_cnn.add(Flatten())\n",
    "car_cnn.add(Dense(256, activation='relu'))\n",
    "car_cnn.add(Dropout(rate=0.5))\n",
    "car_cnn.add(Dense(4, activation='softmax'))\n",
    "\n",
    "# Compile the model\n",
    "car_cnn.compile(loss='categorical_crossentropy', optimizer='adam', metrics=['accuracy'])\n",
    "\n",
    "# fit the model\n",
    "hist = car_cnn.fit(X_train, y_train_oh, \n",
    "                   batch_size=32, \n",
    "                   epochs=epochs, \n",
    "                   validation_data=(X_val, y_val_oh))\n",
    "\n"
   ]
  },
  {
   "cell_type": "code",
   "execution_count": 82,
   "metadata": {
    "colab": {
     "base_uri": "https://localhost:8080/",
     "height": 799
    },
    "colab_type": "code",
    "id": "9uw48iR85sFr",
    "outputId": "ff9aa476-a271-4ab2-9210-4f916c961c3c"
   },
   "outputs": [
    {
     "name": "stdout",
     "output_type": "stream",
     "text": [
      "Model: \"sequential_12\"\n",
      "_________________________________________________________________\n",
      "Layer (type)                 Output Shape              Param #   \n",
      "=================================================================\n",
      "conv2d_69 (Conv2D)           (None, 250, 250, 32)      4736      \n",
      "_________________________________________________________________\n",
      "conv2d_70 (Conv2D)           (None, 244, 244, 32)      50208     \n",
      "_________________________________________________________________\n",
      "max_pooling2d_36 (MaxPooling (None, 122, 122, 32)      0         \n",
      "_________________________________________________________________\n",
      "dropout_57 (Dropout)         (None, 122, 122, 32)      0         \n",
      "_________________________________________________________________\n",
      "conv2d_71 (Conv2D)           (None, 118, 118, 64)      51264     \n",
      "_________________________________________________________________\n",
      "conv2d_72 (Conv2D)           (None, 114, 114, 64)      102464    \n",
      "_________________________________________________________________\n",
      "max_pooling2d_37 (MaxPooling (None, 57, 57, 64)        0         \n",
      "_________________________________________________________________\n",
      "dropout_58 (Dropout)         (None, 57, 57, 64)        0         \n",
      "_________________________________________________________________\n",
      "conv2d_73 (Conv2D)           (None, 55, 55, 64)        36928     \n",
      "_________________________________________________________________\n",
      "conv2d_74 (Conv2D)           (None, 53, 53, 64)        36928     \n",
      "_________________________________________________________________\n",
      "max_pooling2d_38 (MaxPooling (None, 26, 26, 64)        0         \n",
      "_________________________________________________________________\n",
      "dropout_59 (Dropout)         (None, 26, 26, 64)        0         \n",
      "_________________________________________________________________\n",
      "conv2d_75 (Conv2D)           (None, 24, 24, 64)        36928     \n",
      "_________________________________________________________________\n",
      "max_pooling2d_39 (MaxPooling (None, 12, 12, 64)        0         \n",
      "_________________________________________________________________\n",
      "dropout_60 (Dropout)         (None, 12, 12, 64)        0         \n",
      "_________________________________________________________________\n",
      "flatten_12 (Flatten)         (None, 9216)              0         \n",
      "_________________________________________________________________\n",
      "dense_33 (Dense)             (None, 256)               2359552   \n",
      "_________________________________________________________________\n",
      "dropout_61 (Dropout)         (None, 256)               0         \n",
      "_________________________________________________________________\n",
      "dense_34 (Dense)             (None, 4)                 1028      \n",
      "=================================================================\n",
      "Total params: 2,680,036\n",
      "Trainable params: 2,680,036\n",
      "Non-trainable params: 0\n",
      "_________________________________________________________________\n"
     ]
    }
   ],
   "source": [
    "car_cnn.summary()"
   ]
  },
  {
   "cell_type": "code",
   "execution_count": 83,
   "metadata": {
    "colab": {
     "base_uri": "https://localhost:8080/",
     "height": 573
    },
    "colab_type": "code",
    "id": "yw5T4_TT6Dla",
    "outputId": "a8c71a6c-a790-49f9-8680-d2683be37fe1"
   },
   "outputs": [
    {
     "data": {
      "image/png": "[encoded data removed]",
      "text/plain": [
       "<Figure size 432x288 with 1 Axes>"
      ]
     },
     "metadata": {
      "needs_background": "light",
      "tags": []
     },
     "output_type": "display_data"
    },
    {
     "data": {
      "image/png": "[encoded data removed]",
      "text/plain": [
       "<Figure size 432x288 with 1 Axes>"
      ]
     },
     "metadata": {
      "needs_background": "light",
      "tags": []
     },
     "output_type": "display_data"
    }
   ],
   "source": [
    "# plotting graphs for accuracy and losses\n",
    "plt.figure(0)\n",
    "plt.plot(hist.history['accuracy'], label='training accuracy')\n",
    "plt.plot(hist.history['val_accuracy'], label='val accuracy')\n",
    "plt.title('Accuracy')\n",
    "plt.xlabel('epochs')\n",
    "plt.ylabel('accuracy')\n",
    "plt.legend()\n",
    "plt.show()\n",
    "\n",
    "plt.figure(1)\n",
    "plt.plot(hist.history['loss'], label='training loss')\n",
    "plt.plot(hist.history['val_loss'], label='val loss')\n",
    "#plt.axis([0, 10, 0, 2])\n",
    "plt.title('Loss')\n",
    "plt.xlabel('epochs')\n",
    "plt.ylabel('loss')\n",
    "plt.legend()\n",
    "plt.show()"
   ]
  },
  {
   "cell_type": "code",
   "execution_count": 0,
   "metadata": {
    "colab": {},
    "colab_type": "code",
    "id": "nygQB5gB-dxj"
   },
   "outputs": [],
   "source": [
    "y_pred = car_cnn.predict_classes(X_test)"
   ]
  },
  {
   "cell_type": "code",
   "execution_count": 91,
   "metadata": {
    "colab": {
     "base_uri": "https://localhost:8080/",
     "height": 173
    },
    "colab_type": "code",
    "id": "7O0ERendeJvM",
    "outputId": "6e682148-6bc9-48cb-aa03-541c139c42a4"
   },
   "outputs": [
    {
     "data": {
      "text/html": [
       "<div>\n",
       "<style scoped>\n",
       "    .dataframe tbody tr th:only-of-type {\n",
       "        vertical-align: middle;\n",
       "    }\n",
       "\n",
       "    .dataframe tbody tr th {\n",
       "        vertical-align: top;\n",
       "    }\n",
       "\n",
       "    .dataframe thead th {\n",
       "        text-align: right;\n",
       "    }\n",
       "</style>\n",
       "<table border=\"1\" class=\"dataframe\">\n",
       "  <thead>\n",
       "    <tr style=\"text-align: right;\">\n",
       "      <th></th>\n",
       "      <th>0</th>\n",
       "      <th>1</th>\n",
       "      <th>2</th>\n",
       "      <th>3</th>\n",
       "    </tr>\n",
       "  </thead>\n",
       "  <tbody>\n",
       "    <tr>\n",
       "      <th>0</th>\n",
       "      <td>584</td>\n",
       "      <td>1</td>\n",
       "      <td>1</td>\n",
       "      <td>11</td>\n",
       "    </tr>\n",
       "    <tr>\n",
       "      <th>1</th>\n",
       "      <td>8</td>\n",
       "      <td>568</td>\n",
       "      <td>7</td>\n",
       "      <td>17</td>\n",
       "    </tr>\n",
       "    <tr>\n",
       "      <th>2</th>\n",
       "      <td>20</td>\n",
       "      <td>6</td>\n",
       "      <td>552</td>\n",
       "      <td>22</td>\n",
       "    </tr>\n",
       "    <tr>\n",
       "      <th>3</th>\n",
       "      <td>11</td>\n",
       "      <td>8</td>\n",
       "      <td>12</td>\n",
       "      <td>569</td>\n",
       "    </tr>\n",
       "  </tbody>\n",
       "</table>\n",
       "</div>"
      ],
      "text/plain": [
       "     0    1    2    3\n",
       "0  584    1    1   11\n",
       "1    8  568    7   17\n",
       "2   20    6  552   22\n",
       "3   11    8   12  569"
      ]
     },
     "execution_count": 91,
     "metadata": {
      "tags": []
     },
     "output_type": "execute_result"
    }
   ],
   "source": [
    "car_cm = pd.DataFrame(confusion_matrix(y_test, y_pred))\n",
    "car_cm"
   ]
  },
  {
   "cell_type": "code",
   "execution_count": 94,
   "metadata": {
    "colab": {
     "base_uri": "https://localhost:8080/",
     "height": 34
    },
    "colab_type": "code",
    "id": "BHcrGs0zeeHN",
    "outputId": "8eac68f3-d9ab-4ca5-8e35-879dbf61df23"
   },
   "outputs": [
    {
     "data": {
      "text/plain": [
       "2273"
      ]
     },
     "execution_count": 94,
     "metadata": {
      "tags": []
     },
     "output_type": "execute_result"
    }
   ],
   "source": [
    "car_correct = np.sum([y_test == y_pred])\n",
    "car_correct"
   ]
  },
  {
   "cell_type": "code",
   "execution_count": 95,
   "metadata": {
    "colab": {
     "base_uri": "https://localhost:8080/",
     "height": 34
    },
    "colab_type": "code",
    "id": "bNIIeRP5etcZ",
    "outputId": "2c48b5e7-c305-4143-82e1-5e012f392dcb"
   },
   "outputs": [
    {
     "data": {
      "text/plain": [
       "0.9482686691697956"
      ]
     },
     "execution_count": 95,
     "metadata": {
      "tags": []
     },
     "output_type": "execute_result"
    }
   ],
   "source": [
    "(car_correct / len(y_test))"
   ]
  },
  {
   "cell_type": "code",
   "execution_count": 0,
   "metadata": {
    "colab": {},
    "colab_type": "code",
    "id": "Xk8ZWGBF6WW9"
   },
   "outputs": [],
   "source": [
    "#save the model for other use\n",
    "\n",
    "car_cnn.save('./car_final.h5')"
   ]
  },
  {
   "cell_type": "code",
   "execution_count": null,
   "metadata": {},
   "outputs": [],
   "source": []
  }
 ],
 "metadata": {
  "accelerator": "GPU",
  "colab": {
   "name": "03_model_newdata_2_best.ipynb",
   "provenance": []
  },
  "kernelspec": {
   "display_name": "Python 3",
   "language": "python",
   "name": "python3"
  },
  "language_info": {
   "codemirror_mode": {
    "name": "ipython",
    "version": 3
   },
   "file_extension": ".py",
   "mimetype": "text/x-python",
   "name": "python",
   "nbconvert_exporter": "python",
   "pygments_lexer": "ipython3",
   "version": "3.7.6"
  }
 },
 "nbformat": 4,
 "nbformat_minor": 1
}
