{
 "cells": [
  {
   "cell_type": "code",
   "execution_count": 0,
   "metadata": {
    "colab": {
     "base_uri": "https://localhost:8080/",
     "height": 34
    },
    "colab_type": "code",
    "executionInfo": {
     "elapsed": 161808,
     "status": "ok",
     "timestamp": 1591422552762,
     "user": {
      "displayName": "Richard Ling",
      "photoUrl": "",
      "userId": "09651889217726605538"
     },
     "user_tz": 420
    },
    "id": "8mvEiwlE3ulZ",
    "outputId": "5b847c9e-1516-47a7-ed4e-8a5b7be8d217"
   },
   "outputs": [
    {
     "name": "stderr",
     "output_type": "stream",
     "text": [
      "Using TensorFlow backend.\n"
     ]
    }
   ],
   "source": [
    "import pandas as pd\n",
    "import numpy as np\n",
    "from numpy.random import seed\n",
    "import os\n",
    "import matplotlib.pyplot as plt\n",
    "from PIL import Image\n",
    "import time\n",
    "\n",
    "from sklearn.model_selection import train_test_split\n",
    "from sklearn.metrics import confusion_matrix\n",
    "\n",
    "import tensorflow as tf\n",
    "from tensorflow import keras\n",
    "from keras.utils import to_categorical\n",
    "from keras.models import Sequential, load_model,\n",
    "from keras.layers import Conv2D, MaxPool2D, Dense, Flatten, Dropout,\n",
    "from keras.applications.vgg16 import VGG16 "
   ]
  },
  {
   "cell_type": "code",
   "execution_count": 0,
   "metadata": {
    "colab": {},
    "colab_type": "code",
    "id": "dVknRKHgcHtM"
   },
   "outputs": [],
   "source": [
    "seed(88)\n",
    "tf.random.set_seed(88)"
   ]
  },
  {
   "cell_type": "code",
   "execution_count": 0,
   "metadata": {
    "colab": {},
    "colab_type": "code",
    "id": "l_Lv7U1H5PZ2"
   },
   "outputs": [],
   "source": [
    "# empty list to store all image array\n",
    "images_data = []\n",
    "\n",
    "# empty list to store all the corresponding labels\n",
    "images_labels = []"
   ]
  },
  {
   "cell_type": "code",
   "execution_count": 0,
   "metadata": {
    "colab": {
     "base_uri": "https://localhost:8080/",
     "height": 85
    },
    "colab_type": "code",
    "executionInfo": {
     "elapsed": 170544,
     "status": "ok",
     "timestamp": 1591422565458,
     "user": {
      "displayName": "Richard Ling",
      "photoUrl": "",
      "userId": "09651889217726605538"
     },
     "user_tz": 420
    },
    "id": "e966cYmf5SsN",
    "outputId": "c1a41c93-5817-488e-ff1d-a6e95249ed0d"
   },
   "outputs": [
    {
     "name": "stdout",
     "output_type": "stream",
     "text": [
      "Completed folder 0.\n",
      "Completed folder 1.\n",
      "Completed folder 2.\n",
      "Completed folder 3.\n"
     ]
    }
   ],
   "source": [
    "#all the folders or labels\n",
    "for i in range(4):\n",
    "    \n",
    "    # the directory that has all folders with images\n",
    "    path = f'/content/car/pretrain/{i}/'\n",
    "    images = os.listdir(path)\n",
    "\n",
    "    # loop through each image in the folder\n",
    "    for image in images:\n",
    "        \n",
    "        # open each image\n",
    "        img = Image.open(path + image)\n",
    "\n",
    "        # resize to 224 x 224\n",
    "        img = img.resize((224, 224))\n",
    "        \n",
    "        # convert image to array\n",
    "        img_array = np.array(img)\n",
    "        \n",
    "        # add each array to the images_data list\n",
    "        images_data.append(img_array)\n",
    "        \n",
    "        # add the label to the images_labels list\n",
    "        images_labels.append(i)\n",
    "\n",
    "    #progress report for each folder\n",
    "    print(f'Completed folder {i}.')"
   ]
  },
  {
   "cell_type": "code",
   "execution_count": 0,
   "metadata": {
    "colab": {},
    "colab_type": "code",
    "id": "uAhw_7WC5kx2"
   },
   "outputs": [],
   "source": [
    "#convert list to arrays\n",
    "\n",
    "images_array = np.array(images_data)\n",
    "\n",
    "labels_array = np.array(images_labels)"
   ]
  },
  {
   "cell_type": "code",
   "execution_count": 0,
   "metadata": {
    "colab": {
     "base_uri": "https://localhost:8080/",
     "height": 34
    },
    "colab_type": "code",
    "executionInfo": {
     "elapsed": 170453,
     "status": "ok",
     "timestamp": 1591422565826,
     "user": {
      "displayName": "Richard Ling",
      "photoUrl": "",
      "userId": "09651889217726605538"
     },
     "user_tz": 420
    },
    "id": "UrMQ45hb5o6Z",
    "outputId": "ee44a6a9-cad4-4bbd-a799-13a7a10bdcb6"
   },
   "outputs": [
    {
     "data": {
      "text/plain": [
       "(9588, 224, 224, 3)"
      ]
     },
     "execution_count": 8,
     "metadata": {
      "tags": []
     },
     "output_type": "execute_result"
    }
   ],
   "source": [
    "# images array shape\n",
    "images_array.shape"
   ]
  },
  {
   "cell_type": "code",
   "execution_count": 0,
   "metadata": {
    "colab": {
     "base_uri": "https://localhost:8080/",
     "height": 34
    },
    "colab_type": "code",
    "executionInfo": {
     "elapsed": 170281,
     "status": "ok",
     "timestamp": 1591422565827,
     "user": {
      "displayName": "Richard Ling",
      "photoUrl": "",
      "userId": "09651889217726605538"
     },
     "user_tz": 420
    },
    "id": "Op1o3Hi25s9-",
    "outputId": "532bdd41-6bde-4ebe-ce24-9527749d238f"
   },
   "outputs": [
    {
     "data": {
      "text/plain": [
       "(9588,)"
      ]
     },
     "execution_count": 9,
     "metadata": {
      "tags": []
     },
     "output_type": "execute_result"
    }
   ],
   "source": [
    "# label_array shape\n",
    "\n",
    "labels_array.shape"
   ]
  },
  {
   "cell_type": "code",
   "execution_count": 0,
   "metadata": {
    "colab": {
     "base_uri": "https://localhost:8080/",
     "height": 34
    },
    "colab_type": "code",
    "executionInfo": {
     "elapsed": 170096,
     "status": "ok",
     "timestamp": 1591422565827,
     "user": {
      "displayName": "Richard Ling",
      "photoUrl": "",
      "userId": "09651889217726605538"
     },
     "user_tz": 420
    },
    "id": "H9H5Gu2c6Cin",
    "outputId": "41fbde7b-b85b-440e-ee50-0ca4678959dd"
   },
   "outputs": [
    {
     "data": {
      "text/plain": [
       "(array([0, 1, 2, 3]), array([2388, 2400, 2400, 2400]))"
      ]
     },
     "execution_count": 10,
     "metadata": {
      "tags": []
     },
     "output_type": "execute_result"
    }
   ],
   "source": [
    "np.unique(labels_array, return_counts=True)"
   ]
  },
  {
   "cell_type": "code",
   "execution_count": 0,
   "metadata": {
    "colab": {},
    "colab_type": "code",
    "id": "zumJA1Et5uN5"
   },
   "outputs": [],
   "source": [
    "# train test split\n",
    "\n",
    "X_train, X_test, y_train, y_test = train_test_split(images_array,\n",
    "                                                    labels_array,\n",
    "                                                    random_state = 888,\n",
    "                                                    stratify = labels_array)"
   ]
  },
  {
   "cell_type": "code",
   "execution_count": 0,
   "metadata": {
    "colab": {},
    "colab_type": "code",
    "id": "7r-87ECa5wOl"
   },
   "outputs": [],
   "source": [
    "# add in a validation set. \n",
    "\n",
    "X_train, X_val, y_train, y_val = train_test_split(X_train, y_train,\n",
    "                                                 test_size = 0.2,\n",
    "                                                 random_state = 888,\n",
    "                                                 stratify = y_train)"
   ]
  },
  {
   "cell_type": "code",
   "execution_count": 0,
   "metadata": {
    "colab": {},
    "colab_type": "code",
    "id": "otAkl8Pa5xrS"
   },
   "outputs": [],
   "source": [
    "# convert labels to categories\n",
    "y_train_oh = to_categorical(y_train, 4)\n",
    "y_val_oh = to_categorical(y_val, 4)"
   ]
  },
  {
   "cell_type": "code",
   "execution_count": 0,
   "metadata": {
    "colab": {},
    "colab_type": "code",
    "id": "_t-7JV09p2-h"
   },
   "outputs": [],
   "source": [
    "# epochs for CNN model\n",
    "epochs = 30"
   ]
  },
  {
   "cell_type": "code",
   "execution_count": 0,
   "metadata": {
    "colab": {
     "base_uri": "https://localhost:8080/",
     "height": 71
    },
    "colab_type": "code",
    "executionInfo": {
     "elapsed": 170511,
     "status": "ok",
     "timestamp": 1591422577037,
     "user": {
      "displayName": "Richard Ling",
      "photoUrl": "",
      "userId": "09651889217726605538"
     },
     "user_tz": 420
    },
    "id": "N89k7FTVqyaQ",
    "outputId": "f2e57e8a-5feb-4909-ddc6-19ea47f18f09"
   },
   "outputs": [
    {
     "name": "stdout",
     "output_type": "stream",
     "text": [
      "Downloading data from https://github.com/fchollet/deep-learning-models/releases/download/v0.1/vgg16_weights_tf_dim_ordering_tf_kernels_notop.h5\n",
      "58892288/58889256 [==============================] - 2s 0us/step\n"
     ]
    }
   ],
   "source": [
    "model_base = VGG16(weights = 'imagenet',\n",
    "                   include_top = False, \n",
    "                   input_shape=(224, 224, 3))"
   ]
  },
  {
   "cell_type": "code",
   "execution_count": 0,
   "metadata": {
    "colab": {},
    "colab_type": "code",
    "id": "B3MxScItRi6s"
   },
   "outputs": [],
   "source": [
    "model_base.trainable = False\n",
    "\n",
    "for layer in model_base.layers[:-4]:\n",
    "  layer.trainable = False\n"
   ]
  },
  {
   "cell_type": "code",
   "execution_count": 0,
   "metadata": {
    "colab": {
     "base_uri": "https://localhost:8080/",
     "height": 340
    },
    "colab_type": "code",
    "executionInfo": {
     "elapsed": 169483,
     "status": "ok",
     "timestamp": 1591422577220,
     "user": {
      "displayName": "Richard Ling",
      "photoUrl": "",
      "userId": "09651889217726605538"
     },
     "user_tz": 420
    },
    "id": "ToOo_dZSUc_k",
    "outputId": "2ce3df81-aa99-4df7-d76f-ff64788c3d5a"
   },
   "outputs": [
    {
     "name": "stdout",
     "output_type": "stream",
     "text": [
      "<keras.engine.input_layer.InputLayer object at 0x7f7c91bad7b8> False\n",
      "<keras.layers.convolutional.Conv2D object at 0x7f7c46d90be0> False\n",
      "<keras.layers.convolutional.Conv2D object at 0x7f7c46d90a20> False\n",
      "<keras.layers.pooling.MaxPooling2D object at 0x7f7c46d90978> False\n",
      "<keras.layers.convolutional.Conv2D object at 0x7f7c46e64f28> False\n",
      "<keras.layers.convolutional.Conv2D object at 0x7f7c464a4be0> False\n",
      "<keras.layers.pooling.MaxPooling2D object at 0x7f7c464b2780> False\n",
      "<keras.layers.convolutional.Conv2D object at 0x7f7c464b25c0> False\n",
      "<keras.layers.convolutional.Conv2D object at 0x7f7c464b7320> False\n",
      "<keras.layers.convolutional.Conv2D object at 0x7f7c464b7eb8> False\n",
      "<keras.layers.pooling.MaxPooling2D object at 0x7f7c464bc978> False\n",
      "<keras.layers.convolutional.Conv2D object at 0x7f7c464bc780> False\n",
      "<keras.layers.convolutional.Conv2D object at 0x7f7c464c24e0> False\n",
      "<keras.layers.convolutional.Conv2D object at 0x7f7c464c2dd8> False\n",
      "<keras.layers.pooling.MaxPooling2D object at 0x7f7c464c7b70> False\n",
      "<keras.layers.convolutional.Conv2D object at 0x7f7c464c7978> True\n",
      "<keras.layers.convolutional.Conv2D object at 0x7f7c304146d8> True\n",
      "<keras.layers.convolutional.Conv2D object at 0x7f7c30414e80> True\n",
      "<keras.layers.pooling.MaxPooling2D object at 0x7f7c3041ad68> True\n"
     ]
    }
   ],
   "source": [
    "for layer in model_base.layers:\n",
    "  print(layer, layer.trainable)"
   ]
  },
  {
   "cell_type": "code",
   "execution_count": 0,
   "metadata": {
    "colab": {
     "base_uri": "https://localhost:8080/",
     "height": 1000
    },
    "colab_type": "code",
    "executionInfo": {
     "elapsed": 745157,
     "status": "ok",
     "timestamp": 1591423159264,
     "user": {
      "displayName": "Richard Ling",
      "photoUrl": "",
      "userId": "09651889217726605538"
     },
     "user_tz": 420
    },
    "id": "TXcQOFhFMaU4",
    "outputId": "5814d923-c614-4e68-8b02-43d25951b89f"
   },
   "outputs": [
    {
     "name": "stdout",
     "output_type": "stream",
     "text": [
      "Train on 5752 samples, validate on 1439 samples\n",
      "Epoch 1/30\n",
      "5752/5752 [==============================] - 27s 5ms/step - loss: 3.6540 - accuracy: 0.6610 - val_loss: 0.3582 - val_accuracy: 0.8631\n",
      "Epoch 2/30\n",
      "5752/5752 [==============================] - 19s 3ms/step - loss: 0.5664 - accuracy: 0.8088 - val_loss: 0.2235 - val_accuracy: 0.9229\n",
      "Epoch 3/30\n",
      "5752/5752 [==============================] - 19s 3ms/step - loss: 0.3997 - accuracy: 0.8597 - val_loss: 0.2817 - val_accuracy: 0.9354\n",
      "Epoch 4/30\n",
      "5752/5752 [==============================] - 19s 3ms/step - loss: 0.3767 - accuracy: 0.8830 - val_loss: 0.1513 - val_accuracy: 0.9472\n",
      "Epoch 5/30\n",
      "5752/5752 [==============================] - 19s 3ms/step - loss: 0.3120 - accuracy: 0.8986 - val_loss: 0.1101 - val_accuracy: 0.9639\n",
      "Epoch 6/30\n",
      "5752/5752 [==============================] - 19s 3ms/step - loss: 0.2764 - accuracy: 0.9013 - val_loss: 0.1011 - val_accuracy: 0.9680\n",
      "Epoch 7/30\n",
      "5752/5752 [==============================] - 19s 3ms/step - loss: 0.2127 - accuracy: 0.9221 - val_loss: 0.0806 - val_accuracy: 0.9722\n",
      "Epoch 8/30\n",
      "5752/5752 [==============================] - 19s 3ms/step - loss: 0.2158 - accuracy: 0.9265 - val_loss: 0.1253 - val_accuracy: 0.9757\n",
      "Epoch 9/30\n",
      "5752/5752 [==============================] - 19s 3ms/step - loss: 0.2141 - accuracy: 0.9292 - val_loss: 0.1012 - val_accuracy: 0.9729\n",
      "Epoch 10/30\n",
      "5752/5752 [==============================] - 19s 3ms/step - loss: 0.2454 - accuracy: 0.9263 - val_loss: 0.0840 - val_accuracy: 0.9743\n",
      "Epoch 11/30\n",
      "5752/5752 [==============================] - 19s 3ms/step - loss: 0.2308 - accuracy: 0.9306 - val_loss: 0.0748 - val_accuracy: 0.9757\n",
      "Epoch 12/30\n",
      "5752/5752 [==============================] - 19s 3ms/step - loss: 0.1745 - accuracy: 0.9407 - val_loss: 0.0690 - val_accuracy: 0.9785\n",
      "Epoch 13/30\n",
      "5752/5752 [==============================] - 19s 3ms/step - loss: 0.1778 - accuracy: 0.9473 - val_loss: 0.0811 - val_accuracy: 0.9771\n",
      "Epoch 14/30\n",
      "5752/5752 [==============================] - 19s 3ms/step - loss: 0.2051 - accuracy: 0.9404 - val_loss: 0.1065 - val_accuracy: 0.9778\n",
      "Epoch 15/30\n",
      "5752/5752 [==============================] - 19s 3ms/step - loss: 0.1429 - accuracy: 0.9553 - val_loss: 0.0835 - val_accuracy: 0.9805\n",
      "Epoch 16/30\n",
      "5752/5752 [==============================] - 19s 3ms/step - loss: 0.1561 - accuracy: 0.9534 - val_loss: 0.0722 - val_accuracy: 0.9805\n",
      "Epoch 17/30\n",
      "5752/5752 [==============================] - 19s 3ms/step - loss: 0.1511 - accuracy: 0.9499 - val_loss: 0.0903 - val_accuracy: 0.9757\n",
      "Epoch 18/30\n",
      "5752/5752 [==============================] - 19s 3ms/step - loss: 0.1816 - accuracy: 0.9485 - val_loss: 0.1080 - val_accuracy: 0.9792\n",
      "Epoch 19/30\n",
      "5752/5752 [==============================] - 19s 3ms/step - loss: 0.1615 - accuracy: 0.9579 - val_loss: 0.1375 - val_accuracy: 0.9729\n",
      "Epoch 20/30\n",
      "5752/5752 [==============================] - 19s 3ms/step - loss: 0.1950 - accuracy: 0.9503 - val_loss: 0.0860 - val_accuracy: 0.9826\n",
      "Epoch 21/30\n",
      "5752/5752 [==============================] - 19s 3ms/step - loss: 0.1758 - accuracy: 0.9482 - val_loss: 0.1277 - val_accuracy: 0.9708\n",
      "Epoch 22/30\n",
      "5752/5752 [==============================] - 19s 3ms/step - loss: 0.1315 - accuracy: 0.9564 - val_loss: 0.0778 - val_accuracy: 0.9847\n",
      "Epoch 23/30\n",
      "5752/5752 [==============================] - 19s 3ms/step - loss: 0.1367 - accuracy: 0.9574 - val_loss: 0.0740 - val_accuracy: 0.9826\n",
      "Epoch 24/30\n",
      "5752/5752 [==============================] - 19s 3ms/step - loss: 0.1424 - accuracy: 0.9578 - val_loss: 0.0794 - val_accuracy: 0.9812\n",
      "Epoch 25/30\n",
      "5752/5752 [==============================] - 19s 3ms/step - loss: 0.1142 - accuracy: 0.9597 - val_loss: 0.0567 - val_accuracy: 0.9861\n",
      "Epoch 26/30\n",
      "5752/5752 [==============================] - 19s 3ms/step - loss: 0.1381 - accuracy: 0.9590 - val_loss: 0.1300 - val_accuracy: 0.9736\n",
      "Epoch 27/30\n",
      "5752/5752 [==============================] - 19s 3ms/step - loss: 0.1418 - accuracy: 0.9621 - val_loss: 0.0818 - val_accuracy: 0.9847\n",
      "Epoch 28/30\n",
      "5752/5752 [==============================] - 19s 3ms/step - loss: 0.1182 - accuracy: 0.9644 - val_loss: 0.0631 - val_accuracy: 0.9868\n",
      "Epoch 29/30\n",
      "5752/5752 [==============================] - 19s 3ms/step - loss: 0.1180 - accuracy: 0.9647 - val_loss: 0.0995 - val_accuracy: 0.9805\n",
      "Epoch 30/30\n",
      "5752/5752 [==============================] - 19s 3ms/step - loss: 0.0925 - accuracy: 0.9701 - val_loss: 0.1264 - val_accuracy: 0.9819\n"
     ]
    }
   ],
   "source": [
    "%%time\n",
    "\n",
    "model = Sequential()\n",
    "model.add(model_base)\n",
    "model.add(Flatten())\n",
    "model.add(Dense(256, activation='relu'))\n",
    "model.add(Dropout(rate=0.5))\n",
    "model.add(Dense(4, activation='softmax'))\n",
    "\n",
    "#Compile the model\n",
    "model.compile(loss='categorical_crossentropy', optimizer='adam', metrics=['accuracy'])\n",
    "\n",
    "vgg_fit = model.fit(X_train, y_train_oh,\n",
    "                    batch_size = 32,\n",
    "                    epochs = epochs,\n",
    "                    validation_data=(X_val, y_val_oh))"
   ]
  },
  {
   "cell_type": "code",
   "execution_count": 0,
   "metadata": {
    "colab": {
     "base_uri": "https://localhost:8080/",
     "height": 573
    },
    "colab_type": "code",
    "executionInfo": {
     "elapsed": 744946,
     "status": "ok",
     "timestamp": 1591423159450,
     "user": {
      "displayName": "Richard Ling",
      "photoUrl": "",
      "userId": "09651889217726605538"
     },
     "user_tz": 420
    },
    "id": "xTI7pqb70Gx-",
    "outputId": "af50a2c1-8a87-4def-a8a2-568e179ddea3"
   },
   "outputs": [
    {
     "data": {
      "image/png": "[encoded data removed]",
      "text/plain": [
       "<Figure size 432x288 with 1 Axes>"
      ]
     },
     "metadata": {
      "needs_background": "light",
      "tags": []
     },
     "output_type": "display_data"
    },
    {
     "data": {
      "image/png": "[encoded data removed]",
      "text/plain": [
       "<Figure size 432x288 with 1 Axes>"
      ]
     },
     "metadata": {
      "needs_background": "light",
      "tags": []
     },
     "output_type": "display_data"
    }
   ],
   "source": [
    "plt.figure(0)\n",
    "plt.plot(vgg_fit.history['accuracy'], label='training accuracy')\n",
    "plt.plot(vgg_fit.history['val_accuracy'], label='val accuracy')\n",
    "plt.title('Accuracy w/ VGG-16')\n",
    "plt.xlabel('epochs')\n",
    "plt.ylabel('accuracy')\n",
    "plt.legend()\n",
    "plt.show()\n",
    "\n",
    "plt.figure(1)\n",
    "plt.plot(vgg_fit.history['loss'], label='training loss')\n",
    "plt.plot(vgg_fit.history['val_loss'], label='val loss')\n",
    "plt.title('Loss w/ VGG-16')\n",
    "plt.xlabel('epochs')\n",
    "plt.ylabel('loss')\n",
    "plt.legend()\n",
    "plt.show()"
   ]
  },
  {
   "cell_type": "code",
   "execution_count": 0,
   "metadata": {
    "colab": {},
    "colab_type": "code",
    "id": "kd0BuY2fODZV"
   },
   "outputs": [],
   "source": [
    "vgg_pred = model.predict_classes(X_test)\n"
   ]
  },
  {
   "cell_type": "code",
   "execution_count": 0,
   "metadata": {
    "colab": {
     "base_uri": "https://localhost:8080/",
     "height": 173
    },
    "colab_type": "code",
    "executionInfo": {
     "elapsed": 747741,
     "status": "ok",
     "timestamp": 1591423166213,
     "user": {
      "displayName": "Richard Ling",
      "photoUrl": "",
      "userId": "09651889217726605538"
     },
     "user_tz": 420
    },
    "id": "TNrAyumQFr5E",
    "outputId": "1b9c8a1a-070e-42a2-8136-50fa9d58328a"
   },
   "outputs": [
    {
     "data": {
      "text/html": [
       "<div>\n",
       "<style scoped>\n",
       "    .dataframe tbody tr th:only-of-type {\n",
       "        vertical-align: middle;\n",
       "    }\n",
       "\n",
       "    .dataframe tbody tr th {\n",
       "        vertical-align: top;\n",
       "    }\n",
       "\n",
       "    .dataframe thead th {\n",
       "        text-align: right;\n",
       "    }\n",
       "</style>\n",
       "<table border=\"1\" class=\"dataframe\">\n",
       "  <thead>\n",
       "    <tr style=\"text-align: right;\">\n",
       "      <th></th>\n",
       "      <th>Jeep Renegade</th>\n",
       "      <th>Jaguar F-Type</th>\n",
       "      <th>BMW i8</th>\n",
       "      <th>BMW M4</th>\n",
       "    </tr>\n",
       "  </thead>\n",
       "  <tbody>\n",
       "    <tr>\n",
       "      <th>Jeep Renegade</th>\n",
       "      <td>592</td>\n",
       "      <td>0</td>\n",
       "      <td>4</td>\n",
       "      <td>1</td>\n",
       "    </tr>\n",
       "    <tr>\n",
       "      <th>Jaguar F-Type</th>\n",
       "      <td>0</td>\n",
       "      <td>593</td>\n",
       "      <td>5</td>\n",
       "      <td>2</td>\n",
       "    </tr>\n",
       "    <tr>\n",
       "      <th>BMW i8</th>\n",
       "      <td>0</td>\n",
       "      <td>4</td>\n",
       "      <td>595</td>\n",
       "      <td>1</td>\n",
       "    </tr>\n",
       "    <tr>\n",
       "      <th>BMW M4</th>\n",
       "      <td>0</td>\n",
       "      <td>6</td>\n",
       "      <td>20</td>\n",
       "      <td>574</td>\n",
       "    </tr>\n",
       "  </tbody>\n",
       "</table>\n",
       "</div>"
      ],
      "text/plain": [
       "               Jeep Renegade  Jaguar F-Type  BMW i8  BMW M4\n",
       "Jeep Renegade            592              0       4       1\n",
       "Jaguar F-Type              0            593       5       2\n",
       "BMW i8                     0              4     595       1\n",
       "BMW M4                     0              6      20     574"
      ]
     },
     "execution_count": 22,
     "metadata": {
      "tags": []
     },
     "output_type": "execute_result"
    }
   ],
   "source": [
    "vgg_cm = pd.DataFrame(confusion_matrix(y_test, vgg_pred), index = ['Jeep Renegade', 'Jaguar F-Type', 'BMW i8', 'BMW M4'], columns = ['Jeep Renegade', 'Jaguar F-Type', 'BMW i8', 'BMW M4'])\n",
    "vgg_cm"
   ]
  },
  {
   "cell_type": "code",
   "execution_count": 0,
   "metadata": {
    "colab": {
     "base_uri": "https://localhost:8080/",
     "height": 34
    },
    "colab_type": "code",
    "executionInfo": {
     "elapsed": 747511,
     "status": "ok",
     "timestamp": 1591423166214,
     "user": {
      "displayName": "Richard Ling",
      "photoUrl": "",
      "userId": "09651889217726605538"
     },
     "user_tz": 420
    },
    "id": "JMCoNKFqGGxZ",
    "outputId": "84e8f6df-7c82-4d12-adeb-75ad1424972d"
   },
   "outputs": [
    {
     "data": {
      "text/plain": [
       "2354"
      ]
     },
     "execution_count": 23,
     "metadata": {
      "tags": []
     },
     "output_type": "execute_result"
    }
   ],
   "source": [
    "vgg_correct = np.sum(y_test == vgg_pred)\n",
    "vgg_correct"
   ]
  },
  {
   "cell_type": "code",
   "execution_count": 0,
   "metadata": {
    "colab": {
     "base_uri": "https://localhost:8080/",
     "height": 34
    },
    "colab_type": "code",
    "executionInfo": {
     "elapsed": 747194,
     "status": "ok",
     "timestamp": 1591423166215,
     "user": {
      "displayName": "Richard Ling",
      "photoUrl": "",
      "userId": "09651889217726605538"
     },
     "user_tz": 420
    },
    "id": "Dei3ouhFGOLD",
    "outputId": "3f4263d3-1078-4993-c9d9-93ae4443ca67"
   },
   "outputs": [
    {
     "data": {
      "text/plain": [
       "0.982060909470171"
      ]
     },
     "execution_count": 24,
     "metadata": {
      "tags": []
     },
     "output_type": "execute_result"
    }
   ],
   "source": [
    "vgg_correct / len(y_test)"
   ]
  },
  {
   "cell_type": "code",
   "execution_count": 0,
   "metadata": {
    "colab": {},
    "colab_type": "code",
    "id": "8I51NwhDJCdU"
   },
   "outputs": [],
   "source": []
  }
 ],
 "metadata": {
  "accelerator": "GPU",
  "colab": {
   "authorship_tag": "ABX9TyOnQ+Dlo94XlmrItogSiIWg",
   "mount_file_id": "1D3sOl7hVz0WmaQcfy309PMxjj-MkNFb5",
   "name": "pretrain_model_VGG16.ipynb",
   "provenance": []
  },
  "kernelspec": {
   "display_name": "Python 3",
   "language": "python",
   "name": "python3"
  },
  "language_info": {
   "codemirror_mode": {
    "name": "ipython",
    "version": 3
   },
   "file_extension": ".py",
   "mimetype": "text/x-python",
   "name": "python",
   "nbconvert_exporter": "python",
   "pygments_lexer": "ipython3",
   "version": "3.7.6"
  }
 },
 "nbformat": 4,
 "nbformat_minor": 1
}
