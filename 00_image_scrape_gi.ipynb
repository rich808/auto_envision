{
 "cells": [
  {
   "cell_type": "code",
   "execution_count": 1,
   "metadata": {},
   "outputs": [],
   "source": [
    "#import libraries\n",
    "import pandas as pd\n",
    "import requests\n",
    "from bs4 import BeautifulSoup\n",
    "import time"
   ]
  },
  {
   "cell_type": "markdown",
   "metadata": {},
   "source": [
    "### For Multiple cars."
   ]
  },
  {
   "cell_type": "code",
   "execution_count": 4,
   "metadata": {},
   "outputs": [
    {
     "name": "stdout",
     "output_type": "stream",
     "text": [
      "Completed page 1.\n",
      "Completed page 2.\n"
     ]
    },
    {
     "ename": "KeyboardInterrupt",
     "evalue": "",
     "output_type": "error",
     "traceback": [
      "\u001b[0;31m---------------------------------------------------------------------------\u001b[0m",
      "\u001b[0;31mKeyboardInterrupt\u001b[0m                         Traceback (most recent call last)",
      "\u001b[0;32m<timed exec>\u001b[0m in \u001b[0;36m<module>\u001b[0;34m\u001b[0m\n",
      "\u001b[0;31mKeyboardInterrupt\u001b[0m: "
     ]
    }
   ],
   "source": [
    "%%time\n",
    "\n",
    "#page count for the link\n",
    "#page = 1\n",
    "\n",
    "# #picture count.use to label pictures\n",
    "pic_count = 1\n",
    "\n",
    "# #folder count for folder names\n",
    "folder = 1\n",
    "\n",
    "#while loop to reach 4 pages. \n",
    "    \n",
    "for car in [\n",
    "f'https://www.gettyimages.com/photos/jaguar-f-type?page={page}&phrase=jaguar%20f-type&sort=best#license'\n",
    "]:\n",
    "    \n",
    "    #get about 10 pages each\n",
    "    for page in range(1,5):\n",
    "\n",
    "        #url for the site\n",
    "        url = car\n",
    "\n",
    "        #send request\n",
    "        res = requests.get(url)\n",
    "\n",
    "        #set assert. Alert if 200 failed. \n",
    "        assert res.status_code == 200\n",
    "\n",
    "        #setup beatiful soup:\n",
    "        soup = BeautifulSoup(res.content, 'lxml')\n",
    "\n",
    "        #under this section of 'class'\n",
    "        img = soup.find('div', {'class' : 'search-content__gallery-assets' })\n",
    "\n",
    "        #go through each 'img' in this section\n",
    "        for row in img.find_all('img')[2:]:\n",
    "\n",
    "            #try/except when we run into error for wrong img 'src's\n",
    "            try: \n",
    "                #get the url in attrs 'src', which is a url to pull\n",
    "                i_url = row.attrs['src']\n",
    "\n",
    "                #new url request\n",
    "                new_url = i_url\n",
    "\n",
    "                #new request\n",
    "                new_res = requests.get(new_url)\n",
    "\n",
    "\n",
    "                #download the image into folder\n",
    "                with open(f'./{folder}/pic_{pic_count}.jpg', 'wb') as file:\n",
    "                            file.write(new_res.content)\n",
    "            except:\n",
    "                pass\n",
    "\n",
    "            #add name counters\n",
    "            pic_count += 1\n",
    "\n",
    "            #timer delay of 1 second. \n",
    "            time.sleep(1)\n",
    "        \n",
    "        # page progress\n",
    "        print(f'Completed page {page}.')\n",
    "\n",
    "    #increase folder count to seperate each car into seperate folders\n",
    "    #folder += 1\n"
   ]
  },
  {
   "cell_type": "markdown",
   "metadata": {},
   "source": [
    "### For one car"
   ]
  },
  {
   "cell_type": "code",
   "execution_count": 8,
   "metadata": {},
   "outputs": [
    {
     "name": "stdout",
     "output_type": "stream",
     "text": [
      "CPU times: user 7.73 s, sys: 768 ms, total: 8.5 s\n",
      "Wall time: 24min 36s\n"
     ]
    }
   ],
   "source": [
    "%%time\n",
    "\n",
    "#page count for the link\n",
    "page = 1\n",
    "\n",
    "#picture count.use to label pictures\n",
    "pic_count = 1\n",
    "\n",
    "#while loop to reach 4 pages. \n",
    "while page < 8:\n",
    "    \n",
    "    #url for the site\n",
    "    url = f'https://www.gettyimages.com/photos/bmw-m4?page={page}&phrase=bmw%20m4&sort=best#license'\n",
    "    \n",
    "    #send request\n",
    "    res = requests.get(url)\n",
    "    \n",
    "    #set assert. Alert if 200 failed. \n",
    "    assert res.status_code == 200\n",
    "    \n",
    "    #setup beatiful soup:\n",
    "    soup = BeautifulSoup(res.content, 'lxml')\n",
    "    \n",
    "    #under this section of 'class'\n",
    "    img = soup.find('div', {'class' : 'search-content__gallery-assets' })\n",
    "    \n",
    "    #go through each 'img' in this section\n",
    "    for row in img.find_all('img')[2:]:\n",
    "        \n",
    "        #try/except when we run into error for wrong img 'src's\n",
    "        try: \n",
    "            #get the url in attrs 'src', which is a url to pull\n",
    "            i_url = row.attrs['src']\n",
    "\n",
    "            #new url request\n",
    "            new_url = i_url\n",
    "\n",
    "            #new request\n",
    "            new_res = requests.get(new_url)\n",
    "\n",
    "\n",
    "            #download the image into folder\n",
    "            with open(f'./3/pic_{pic_count}.jpg', 'wb') as file:\n",
    "                        file.write(new_res.content)\n",
    "        except:\n",
    "            pass\n",
    "        \n",
    "        #add name counters\n",
    "        pic_count += 1\n",
    "\n",
    "        #timer delay of 1 second. \n",
    "        time.sleep(1)\n",
    "        \n",
    "    #increase page count\n",
    "    \n",
    "    page += 1"
   ]
  },
  {
   "cell_type": "code",
   "execution_count": null,
   "metadata": {},
   "outputs": [],
   "source": []
  }
 ],
 "metadata": {
  "kernelspec": {
   "display_name": "Python 3",
   "language": "python",
   "name": "python3"
  },
  "language_info": {
   "codemirror_mode": {
    "name": "ipython",
    "version": 3
   },
   "file_extension": ".py",
   "mimetype": "text/x-python",
   "name": "python",
   "nbconvert_exporter": "python",
   "pygments_lexer": "ipython3",
   "version": "3.7.6"
  }
 },
 "nbformat": 4,
 "nbformat_minor": 4
}
